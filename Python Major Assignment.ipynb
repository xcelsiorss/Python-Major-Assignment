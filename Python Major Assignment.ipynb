{
 "cells": [
  {
   "cell_type": "code",
   "execution_count": 7,
   "metadata": {},
   "outputs": [
    {
     "name": "stdout",
     "output_type": "stream",
     "text": [
      "datatype of x = 5 is  <class 'int'>\n",
      "datatype of y = John is <class 'str'>\n"
     ]
    }
   ],
   "source": [
    "# 1. Find the datatype of these two declaration: x=5 y=\"John\"\n",
    "\n",
    "x = 5\n",
    "y = \"John\"\n",
    "\n",
    "print(\"datatype of x = 5 is \",type(x))\n",
    "print(\"datatype of y = John is\",type(y))"
   ]
  },
  {
   "cell_type": "code",
   "execution_count": 3,
   "metadata": {},
   "outputs": [
    {
     "ename": "SyntaxError",
     "evalue": "invalid syntax (<ipython-input-3-a71d7e9d7f20>, line 11)",
     "output_type": "error",
     "traceback": [
      "\u001b[1;36m  File \u001b[1;32m\"<ipython-input-3-a71d7e9d7f20>\"\u001b[1;36m, line \u001b[1;32m11\u001b[0m\n\u001b[1;33m    3a=10\u001b[0m\n\u001b[1;37m     ^\u001b[0m\n\u001b[1;31mSyntaxError\u001b[0m\u001b[1;31m:\u001b[0m invalid syntax\n"
     ]
    }
   ],
   "source": [
    "# 2. Check whether the following syntax is valid or invalid for naming a variable:\n",
    "# Example: abc=100 #valid syntax\n",
    "\n",
    "# i. 3a=10\n",
    "# ii. @abc=10\n",
    "# iii. a100=100\n",
    "# iv. _a984_=100\n",
    "# v. a9967$=100\n",
    "# vi. xyz-2=100\n",
    "\n",
    "3a=10\n",
    "print(3a)\n",
    "# invalid syntax\n",
    "\n",
    "@abc=10\n",
    "print (@abc)\n",
    "# invalid syntax\n",
    "\n",
    "a100=100\n",
    "print(a100)\n",
    "# valid syntax\n",
    "\n",
    "_a984_=100\n",
    "print(_a984_)\n",
    "# valid syntax\n",
    "\n",
    "a9967$=100\n",
    "print(a9967$)\n",
    "# invalid syntax\n",
    "\n",
    "xyz-2=100\n",
    "print (xyz-2)\n",
    "# invalid syntax"
   ]
  },
  {
   "cell_type": "code",
   "execution_count": 14,
   "metadata": {},
   "outputs": [
    {
     "name": "stdout",
     "output_type": "stream",
     "text": [
      "[1, 6, 3, 5, 3, 4]\n",
      "Check if 3 exist or not: True\n",
      "Check if 9 exists or not: False\n",
      "Todays date is:  2023-06-23\n"
     ]
    }
   ],
   "source": [
    "# 3. Check if element exists in list in Python:\n",
    "\n",
    "# list = test_list = [1, 6, 3, 5, 3, 4]\n",
    "# 1. Check if 3 exist or not.\n",
    "# 2. Check if 9 exists or not.\n",
    "# 3. Take the user input to print the current date.\n",
    "\n",
    "list = test_list=[1,6,3,5,3,4]\n",
    "print(list)\n",
    "\n",
    "print(\"Check if 3 exist or not:\", 3 in list)\n",
    "\n",
    "print(\"Check if 9 exists or not:\",9 in list )\n",
    "\n",
    "from datetime import date\n",
    "today = date.today()\n",
    "print(\"Todays date is: \", today)\n",
    "\n"
   ]
  },
  {
   "cell_type": "code",
   "execution_count": 15,
   "metadata": {},
   "outputs": [
    {
     "name": "stdout",
     "output_type": "stream",
     "text": [
      "4\n",
      "1\n"
     ]
    }
   ],
   "source": [
    "# 4. what is the output of the following code:\n",
    "# a. print 9//2\n",
    "# b. print 9%2\n",
    "\n",
    "print(9//2)\n",
    "print(9%2)"
   ]
  },
  {
   "cell_type": "code",
   "execution_count": 18,
   "metadata": {},
   "outputs": [
    {
     "name": "stdout",
     "output_type": "stream",
     "text": [
      "1 2 3 4 5 6 7 8 9 10 "
     ]
    }
   ],
   "source": [
    "# Print First 10 natural numbers using a while loop.\n",
    "\n",
    "i=1\n",
    "while i<11:\n",
    "    print(i, end=' ')\n",
    "    i=i+1"
   ]
  },
  {
   "cell_type": "code",
   "execution_count": 46,
   "metadata": {},
   "outputs": [
    {
     "name": "stdout",
     "output_type": "stream",
     "text": [
      "Enter a number: 10\n",
      "The sum of all natural numbers from 1 to the given number is: 55\n"
     ]
    }
   ],
   "source": [
    "# 6. Write a program to accept a number from a user and calculate the sum of all numbers from 1 to a given number.\n",
    "# For example, if the user entered 10 the output should be 55 (1+2+3+4+5+6+7+8+9+10)\n",
    "\n",
    "\n",
    "a = int(input(\"Enter a number: \"))\n",
    "s = 0\n",
    "for i in range(a + 1):\n",
    "   s += i\n",
    "print(\"The sum of all natural numbers from 1 to the given number is:\",s)\n"
   ]
  },
  {
   "cell_type": "code",
   "execution_count": 49,
   "metadata": {},
   "outputs": [
    {
     "name": "stdout",
     "output_type": "stream",
     "text": [
      "the iterate value of  1 is  1\n",
      "the iterate value of  2 is  2\n",
      "the iterate value of  3 is  fizzbuzz\n",
      "the iterate value of  4 is  4\n",
      "the iterate value of  5 is  buzz\n",
      "the iterate value of  6 is  fizzbuzz\n",
      "the iterate value of  7 is  7\n",
      "the iterate value of  8 is  8\n",
      "the iterate value of  9 is  fizzbuzz\n",
      "the iterate value of  10 is  buzz\n",
      "the iterate value of  11 is  11\n",
      "the iterate value of  12 is  fizzbuzz\n",
      "the iterate value of  13 is  13\n",
      "the iterate value of  14 is  14\n",
      "the iterate value of  15 is  fizzbuzz\n",
      "the iterate value of  16 is  16\n",
      "the iterate value of  17 is  17\n",
      "the iterate value of  18 is  fizzbuzz\n",
      "the iterate value of  19 is  19\n",
      "the iterate value of  20 is  buzz\n",
      "the iterate value of  21 is  fizzbuzz\n",
      "the iterate value of  22 is  22\n",
      "the iterate value of  23 is  23\n",
      "the iterate value of  24 is  fizzbuzz\n",
      "the iterate value of  25 is  buzz\n",
      "the iterate value of  26 is  26\n",
      "the iterate value of  27 is  fizzbuzz\n",
      "the iterate value of  28 is  28\n",
      "the iterate value of  29 is  29\n",
      "the iterate value of  30 is  fizzbuzz\n",
      "the iterate value of  31 is  31\n",
      "the iterate value of  32 is  32\n",
      "the iterate value of  33 is  fizzbuzz\n",
      "the iterate value of  34 is  34\n",
      "the iterate value of  35 is  buzz\n",
      "the iterate value of  36 is  fizzbuzz\n",
      "the iterate value of  37 is  37\n",
      "the iterate value of  38 is  38\n",
      "the iterate value of  39 is  fizzbuzz\n",
      "the iterate value of  40 is  buzz\n",
      "the iterate value of  41 is  41\n",
      "the iterate value of  42 is  fizzbuzz\n",
      "the iterate value of  43 is  43\n",
      "the iterate value of  44 is  44\n",
      "the iterate value of  45 is  fizzbuzz\n",
      "the iterate value of  46 is  46\n",
      "the iterate value of  47 is  47\n",
      "the iterate value of  48 is  fizzbuzz\n",
      "the iterate value of  49 is  49\n",
      "the iterate value of  50 is  buzz\n"
     ]
    }
   ],
   "source": [
    "# 7.Write a Python program which iterates the integers from 1 to 50.\n",
    "# For multiples of three print \"Fizz\" instead of the number and for the multiples of five print \"Buzz\".\n",
    "# For numbers which are multiples of both three and five print \"FizzBuzz\".\n",
    "\n",
    "\n",
    "\n",
    "for f in range(1,51):\n",
    "    print (\"the iterate value of \",f,\"is\",end=\"  \")\n",
    "    if f%3 == 0 and i%5 ==0:\n",
    "        print(\"fizzbuzz\")\n",
    "    elif f%3 == 0:\n",
    "        print(\"fizz\")\n",
    "    elif f%5 == 0:\n",
    "        print(\"buzz\")\n",
    "    else:\n",
    "        print(f)\n"
   ]
  },
  {
   "cell_type": "code",
   "execution_count": 48,
   "metadata": {},
   "outputs": [
    {
     "name": "stdout",
     "output_type": "stream",
     "text": [
      "the iterate value of  1 is  1\n",
      "the iterate value of  2 is  2\n",
      "the iterate value of  3 is  fizzbuzz\n",
      "the iterate value of  4 is  4\n",
      "the iterate value of  5 is  buzz\n",
      "the iterate value of  6 is  fizzbuzz\n",
      "the iterate value of  7 is  7\n",
      "the iterate value of  8 is  8\n",
      "the iterate value of  9 is  fizzbuzz\n",
      "the iterate value of  10 is  buzz\n",
      "the iterate value of  11 is  11\n",
      "the iterate value of  12 is  fizzbuzz\n",
      "the iterate value of  13 is  13\n",
      "the iterate value of  14 is  14\n",
      "the iterate value of  15 is  fizzbuzz\n",
      "the iterate value of  16 is  16\n",
      "the iterate value of  17 is  17\n",
      "the iterate value of  18 is  fizzbuzz\n",
      "the iterate value of  19 is  19\n",
      "the iterate value of  20 is  buzz\n",
      "the iterate value of  21 is  fizzbuzz\n",
      "the iterate value of  22 is  22\n",
      "the iterate value of  23 is  23\n",
      "the iterate value of  24 is  fizzbuzz\n",
      "the iterate value of  25 is  buzz\n",
      "the iterate value of  26 is  26\n",
      "the iterate value of  27 is  fizzbuzz\n",
      "the iterate value of  28 is  28\n",
      "the iterate value of  29 is  29\n",
      "the iterate value of  30 is  fizzbuzz\n",
      "the iterate value of  31 is  31\n",
      "the iterate value of  32 is  32\n",
      "the iterate value of  33 is  fizzbuzz\n",
      "the iterate value of  34 is  34\n",
      "the iterate value of  35 is  buzz\n",
      "the iterate value of  36 is  fizzbuzz\n",
      "the iterate value of  37 is  37\n",
      "the iterate value of  38 is  38\n",
      "the iterate value of  39 is  fizzbuzz\n",
      "the iterate value of  40 is  buzz\n",
      "the iterate value of  41 is  41\n",
      "the iterate value of  42 is  fizzbuzz\n",
      "the iterate value of  43 is  43\n",
      "the iterate value of  44 is  44\n",
      "the iterate value of  45 is  fizzbuzz\n",
      "the iterate value of  46 is  46\n",
      "the iterate value of  47 is  47\n",
      "the iterate value of  48 is  fizzbuzz\n",
      "the iterate value of  49 is  49\n",
      "the iterate value of  50 is  buzz\n"
     ]
    }
   ],
   "source": []
  },
  {
   "cell_type": "code",
   "execution_count": null,
   "metadata": {},
   "outputs": [],
   "source": []
  }
 ],
 "metadata": {
  "kernelspec": {
   "display_name": "Python 3",
   "language": "python",
   "name": "python3"
  },
  "language_info": {
   "codemirror_mode": {
    "name": "ipython",
    "version": 3
   },
   "file_extension": ".py",
   "mimetype": "text/x-python",
   "name": "python",
   "nbconvert_exporter": "python",
   "pygments_lexer": "ipython3",
   "version": "3.7.4"
  }
 },
 "nbformat": 4,
 "nbformat_minor": 2
}
